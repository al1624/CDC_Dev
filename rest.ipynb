{
 "cells": [
  {
   "cell_type": "code",
   "execution_count": null,
   "metadata": {},
   "outputs": [],
   "source": [
    "import requests\n"
   ]
  },
  {
   "cell_type": "code",
   "execution_count": null,
   "metadata": {},
   "outputs": [],
   "source": [
    "url = \"http://192.168.1.118:8083\""
   ]
  },
  {
   "cell_type": "code",
   "execution_count": null,
   "metadata": {},
   "outputs": [],
   "source": [
    "r = requests.get(url)\n",
    "r.status_code"
   ]
  },
  {
   "cell_type": "code",
   "execution_count": null,
   "metadata": {},
   "outputs": [],
   "source": [
    "r = requests.get(url+\"/connectors\")\n",
    "r.text"
   ]
  },
  {
   "cell_type": "code",
   "execution_count": null,
   "metadata": {},
   "outputs": [],
   "source": [
    "config_file = 'E:\\\\Git Repos\\\\CDC_Dev\\\\SQL_Server_Config.json'\n",
    "with open(config_file,'r') as f:\n",
    "    data = f.read()"
   ]
  },
  {
   "cell_type": "code",
   "execution_count": null,
   "metadata": {},
   "outputs": [],
   "source": [
    "data"
   ]
  },
  {
   "cell_type": "code",
   "execution_count": null,
   "metadata": {},
   "outputs": [],
   "source": [
    "r = requests.post(url+\"/connectors\", json=    {\"name\": \"AdventureWorks2019-connector\", \n",
    "    \"config\": {\n",
    "        \"connector.class\": \"io.debezium.connector.sqlserver.SqlServerConnector\", \n",
    "        \"database.hostname\": \"192.168.1.186\", \n",
    "        \"database.port\": \"1433\", \n",
    "        \"database.user\": \"CDC_Login\", \n",
    "        \"database.password\": \"Password\", \n",
    "        \"database.names\": \"AdventureWorks2019\", \n",
    "        \"topic.prefix\": \"AdvWorks\", \n",
    "        \"table.include.list\": \"HumanResources.Employee\", \n",
    "        \"schema.history.internal.kafka.bootstrap.servers\": \"kafka:9092\", \n",
    "        \"schema.history.internal.kafka.topic\": \"AdventureWorks2019.HumanResources\", \n",
    "        \"database.encrypt\":\"false\",\n",
    "        #\"database.ssl.truststore\": \"path/to/trust-store\" ,\n",
    "        #\"database.ssl.truststore.password\": \"password-for-trust-store\" \n",
    "    }})\n",
    "r.json()"
   ]
  },
  {
   "cell_type": "code",
   "execution_count": null,
   "metadata": {},
   "outputs": [],
   "source": [
    "r = requests.delete(url+\"/connectors/inventory-connector\")\n",
    "r.status_code"
   ]
  },
  {
   "cell_type": "code",
   "execution_count": null,
   "metadata": {},
   "outputs": [],
   "source": []
  }
 ],
 "metadata": {
  "kernelspec": {
   "display_name": "Python 3",
   "language": "python",
   "name": "python3"
  },
  "language_info": {
   "codemirror_mode": {
    "name": "ipython",
    "version": 3
   },
   "file_extension": ".py",
   "mimetype": "text/x-python",
   "name": "python",
   "nbconvert_exporter": "python",
   "pygments_lexer": "ipython3",
   "version": "3.10.4"
  }
 },
 "nbformat": 4,
 "nbformat_minor": 2
}
